{
 "metadata": {
  "language": "Julia",
  "name": "",
  "signature": "sha256:d576216d1b860c5127b741853c040d984c527a9d9c012e02f9457c42193827c0"
 },
 "nbformat": 3,
 "nbformat_minor": 0,
 "worksheets": [
  {
   "cells": [
    {
     "cell_type": "code",
     "collapsed": false,
     "input": [
      "# load the txt file:\n",
      "numbers = readdlm(\"QuickSort.txt\",'\\n',Int) # notice transposition\n",
      "\n",
      "# initialize the 'count' of the number of comparisons:\n",
      "count = 0\n",
      "\n",
      "\n",
      "# the function that partitions an array around a pivot:\n",
      "function partition(arr, func)\n",
      "    \n",
      "    # make sure that the function does nothing when it's given a single-element vector:\n",
      "    if length(arr) == 1; return {arr}; end\n",
      "        \n",
      "    # get the pivot elements's position:\n",
      "    pivot_position = func(arr)\n",
      "    \n",
      "    # set pivot and move it to the first position:\n",
      "    pivot = arr[pivot_position]\n",
      "    arr[[1 pivot_position]] = arr[[pivot_position 1]]\n",
      "        \n",
      "    # intialize pivot position index:\n",
      "    i=1\n",
      "    \n",
      "    # if j-th element is less than pivot, swap it with the (i+1)-th element:\n",
      "    for j=2:length(arr)\n",
      "        if arr[j] < pivot\n",
      "            arr[[(i+1) j]] = arr[[j (i+1)]]\n",
      "            i+=1\n",
      "        end\n",
      "    end\n",
      "    \n",
      "    # put the pivot in its appropriate position\n",
      "    arr[[1 i]] = arr[[i 1]]\n",
      "    \n",
      "    # count the number of comparisons made:\n",
      "    global count += length(arr)-1\n",
      "    \n",
      "    # return the partioned array together with its pivot\n",
      "    if      i == 1;             {arr[[i]], arr[i+1:end]}\n",
      "    elseif  i == length(arr);   {arr[1:i-1], arr[[i]]}\n",
      "    else;                       {arr[1:i-1], arr[[i]], arr[i+1:end]}\n",
      "    end\n",
      "    \n",
      "end\n",
      "\n",
      "\n",
      "\n",
      "# get the 'median-of-three' pivot (non-trivial):\n",
      "function median_of_three(arr)\n",
      "    \n",
      "    # get length of the array:\n",
      "    l = length(arr)\n",
      "    \n",
      "    # handle boundary cases:\n",
      "    if l<3; return 1; end\n",
      "    \n",
      "    # extract triple from input array:\n",
      "    idx = [1, int(l/2), l]\n",
      "        \n",
      "    # sort the triple:\n",
      "    if arr[idx][1] > arr[idx][2]; idx[[1 2]] = idx[[2 1]]; end\n",
      "    if arr[idx][2] > arr[idx][3]; idx[[2 3]] = idx[[3 2]]; end\n",
      "    if arr[idx][1] > arr[idx][2]; idx[[1 2]] = idx[[2 1]]; end\n",
      "    \n",
      "    #take the second index:\n",
      "    return idx[2]\n",
      "    \n",
      "end\n",
      "\n",
      "\n",
      "\n",
      "# the main function that recusively calls the 'partition' function\n",
      "function qsort(arr,func)\n",
      "    \n",
      "    # intitialize 'output':\n",
      "    output = {arr}\n",
      "    global count = 0\n",
      "\n",
      "    # recusively call the 'partition' function:\n",
      "    while length(output) < length(arr)\n",
      "        output = apply(vcat, map(a -> partition(a,func), output))\n",
      "    end\n",
      "\n",
      "    # convert the output from {[1],[2],...} to [1,2,...]\n",
      "    apply(vcat, output)\n",
      "    \n",
      "end\n",
      "\n",
      "\n",
      "\n",
      "# take the first element as pivot:\n",
      "qsort(numbers, a -> 1)\n",
      "print(count, \"\\n\")\n",
      "\n",
      "# take the last element as pivot:\n",
      "qsort(numbers, a -> length(a))\n",
      "print(count, \"\\n\")\n",
      "\n",
      "# take the median-of-three as pivot:\n",
      "qsort(numbers, median_of_three)\n",
      "print(count, \"\\n\")\n"
     ],
     "language": "python",
     "metadata": {},
     "outputs": [
      {
       "output_type": "stream",
       "stream": "stdout",
       "text": [
        "162085\n"
       ]
      },
      {
       "output_type": "stream",
       "stream": "stdout",
       "text": [
        "164893\n",
        "135633"
       ]
      },
      {
       "output_type": "stream",
       "stream": "stdout",
       "text": [
        "\n"
       ]
      }
     ],
     "prompt_number": 12
    },
    {
     "cell_type": "code",
     "collapsed": false,
     "input": [
      "x = [5,6,2,7,4,1,4,8,9]\n",
      "\n",
      "function f(arr,func)\n",
      "    func(arr)\n",
      "end\n",
      "\n",
      "f(x,first)"
     ],
     "language": "python",
     "metadata": {},
     "outputs": [
      {
       "metadata": {},
       "output_type": "pyout",
       "prompt_number": 3,
       "text": [
        "5"
       ]
      }
     ],
     "prompt_number": 3
    },
    {
     "cell_type": "code",
     "collapsed": false,
     "input": [
      "last(x)"
     ],
     "language": "python",
     "metadata": {},
     "outputs": [
      {
       "metadata": {},
       "output_type": "pyout",
       "prompt_number": 71,
       "text": [
        "9"
       ]
      }
     ],
     "prompt_number": 71
    }
   ],
   "metadata": {}
  }
 ]
}